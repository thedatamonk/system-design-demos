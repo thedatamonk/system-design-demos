{
 "cells": [
  {
   "cell_type": "code",
   "execution_count": 6,
   "metadata": {},
   "outputs": [],
   "source": [
    "import os\n",
    "from elasticsearch import Elasticsearch\n",
    "from dotenv import load_dotenv\n",
    "import json"
   ]
  },
  {
   "cell_type": "code",
   "execution_count": 2,
   "metadata": {},
   "outputs": [
    {
     "name": "stdout",
     "output_type": "stream",
     "text": [
      "elastic\n",
      "xRgHq9CZ\n"
     ]
    }
   ],
   "source": [
    "load_dotenv(dotenv_path=\"../../.env\", override=True)\n",
    "\n",
    "username = os.getenv(\"ES_LOCAL_USERNAME\")\n",
    "password = os.getenv(\"ES_LOCAL_PASSWORD\")\n",
    "\n",
    "print(username)\n",
    "print(password)"
   ]
  },
  {
   "cell_type": "code",
   "execution_count": 7,
   "metadata": {},
   "outputs": [],
   "source": [
    "client = Elasticsearch(\n",
    "    \"http://localhost:9200\",\n",
    "    basic_auth=(username, password)\n",
    ")"
   ]
  },
  {
   "cell_type": "code",
   "execution_count": 9,
   "metadata": {},
   "outputs": [
    {
     "name": "stdout",
     "output_type": "stream",
     "text": [
      "{\n",
      "  \"name\": \"1ff679a26977\",\n",
      "  \"cluster_name\": \"docker-cluster\",\n",
      "  \"cluster_uuid\": \"Y9SrbmtYSsi2-iqxb8i5iQ\",\n",
      "  \"version\": {\n",
      "    \"number\": \"8.17.0\",\n",
      "    \"build_flavor\": \"default\",\n",
      "    \"build_type\": \"docker\",\n",
      "    \"build_hash\": \"2b6a7fed44faa321997703718f07ee0420804b41\",\n",
      "    \"build_date\": \"2024-12-11T12:08:05.663969764Z\",\n",
      "    \"build_snapshot\": false,\n",
      "    \"lucene_version\": \"9.12.0\",\n",
      "    \"minimum_wire_compatibility_version\": \"7.17.0\",\n",
      "    \"minimum_index_compatibility_version\": \"7.0.0\"\n",
      "  },\n",
      "  \"tagline\": \"You Know, for Search\"\n",
      "}\n"
     ]
    }
   ],
   "source": [
    "info = client.info().body\n",
    "print(json.dumps(info, indent=2))"
   ]
  },
  {
   "cell_type": "code",
   "execution_count": null,
   "metadata": {},
   "outputs": [],
   "source": []
  }
 ],
 "metadata": {
  "kernelspec": {
   "display_name": "mlops-env",
   "language": "python",
   "name": "python3"
  },
  "language_info": {
   "codemirror_mode": {
    "name": "ipython",
    "version": 3
   },
   "file_extension": ".py",
   "mimetype": "text/x-python",
   "name": "python",
   "nbconvert_exporter": "python",
   "pygments_lexer": "ipython3",
   "version": "3.10.11"
  }
 },
 "nbformat": 4,
 "nbformat_minor": 2
}
