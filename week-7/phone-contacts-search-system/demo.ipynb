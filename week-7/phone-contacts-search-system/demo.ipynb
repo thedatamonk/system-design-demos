{
 "cells": [
  {
   "cell_type": "code",
   "execution_count": 5,
   "metadata": {
    "vscode": {
     "languageId": "shellscript"
    }
   },
   "outputs": [
    {
     "name": "stdout",
     "output_type": "stream",
     "text": [
      "2025-01-26 16:50:19,938 - INFO - Starting to generate 1000 contacts\n",
      "2025-01-26 16:50:20,090 - INFO - Generated 1000 contacts\n",
      "2025-01-26 16:50:20,090 - INFO - Starting to index contacts into Elasticsearch index 'contacts'\n",
      "2025-01-26 16:50:20,146 - INFO - PUT http://localhost:9200/_bulk [status:200 duration:0.052s]\n",
      "2025-01-26 16:50:20,171 - INFO - PUT http://localhost:9200/_bulk [status:200 duration:0.021s]\n",
      "2025-01-26 16:50:20,172 - INFO - Indexed 1000 contacts into Elasticsearch index 'contacts'\n",
      "2025-01-26 16:50:20,172 - INFO - Completed indexing 1000 contacts into Elasticsearch\n"
     ]
    }
   ],
   "source": [
    "!python ingest_data.py"
   ]
  },
  {
   "cell_type": "code",
   "execution_count": 1,
   "metadata": {},
   "outputs": [],
   "source": [
    "from search_contacts import full_text_search, fuzzy_match_search, spell_correction"
   ]
  },
  {
   "cell_type": "code",
   "execution_count": 2,
   "metadata": {},
   "outputs": [
    {
     "data": {
      "text/plain": [
       "[]"
      ]
     },
     "execution_count": 2,
     "metadata": {},
     "output_type": "execute_result"
    }
   ],
   "source": [
    "full_text_search('Jonny', index_name='contacts')"
   ]
  },
  {
   "cell_type": "code",
   "execution_count": 3,
   "metadata": {},
   "outputs": [
    {
     "data": {
      "text/plain": [
       "[{'_index': 'contacts',\n",
       "  '_id': 'G2BXopQBTXSi8nnuVb-T',\n",
       "  '_score': 5.817816,\n",
       "  '_source': {'name': 'Cody Hanson',\n",
       "   'phone': '980-677-3306',\n",
       "   'occupation': 'Counsellor',\n",
       "   'location': 'Lake Johnny, Venezuela'}},\n",
       " {'_index': 'contacts',\n",
       "  '_id': 'cmA9opQBTXSi8nnutb3L',\n",
       "  '_score': 5.390801,\n",
       "  '_source': {'name': 'Jenny Juarez',\n",
       "   'phone': '464.247.4047x278',\n",
       "   'occupation': 'Civil engineer, consulting',\n",
       "   'location': 'Port Morgan, Azerbaijan'}},\n",
       " {'_index': 'contacts',\n",
       "  '_id': 'vmBXopQBTXSi8nnuVcG6',\n",
       "  '_score': 5.390801,\n",
       "  '_source': {'name': 'Jenny Jordan',\n",
       "   'phone': '435.711.2134x1167',\n",
       "   'occupation': 'Scientist, research (physical sciences)',\n",
       "   'location': 'Brianborough, Maldives'}}]"
      ]
     },
     "execution_count": 3,
     "metadata": {},
     "output_type": "execute_result"
    }
   ],
   "source": [
    "fuzzy_match_search(query='Jonny', index_name='contacts')"
   ]
  },
  {
   "cell_type": "code",
   "execution_count": 6,
   "metadata": {},
   "outputs": [],
   "source": [
    "results, suggestions = spell_correction('Jonnie', index_name='contacts')"
   ]
  },
  {
   "cell_type": "code",
   "execution_count": 7,
   "metadata": {},
   "outputs": [
    {
     "name": "stdout",
     "output_type": "stream",
     "text": [
      "Did you mean?\n",
      "joanne\n"
     ]
    }
   ],
   "source": [
    "if len(suggestions) != 0:\n",
    "    print (f\"Did you mean?\")\n",
    "    for suggestion in suggestions:\n",
    "        print(f\"{suggestion['text']}\")"
   ]
  },
  {
   "cell_type": "code",
   "execution_count": null,
   "metadata": {},
   "outputs": [],
   "source": []
  }
 ],
 "metadata": {
  "kernelspec": {
   "display_name": "mlops-env",
   "language": "python",
   "name": "python3"
  },
  "language_info": {
   "codemirror_mode": {
    "name": "ipython",
    "version": 3
   },
   "file_extension": ".py",
   "mimetype": "text/x-python",
   "name": "python",
   "nbconvert_exporter": "python",
   "pygments_lexer": "ipython3",
   "version": "3.10.11"
  }
 },
 "nbformat": 4,
 "nbformat_minor": 2
}
